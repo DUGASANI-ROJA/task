{
 "cells": [
  {
   "cell_type": "code",
   "execution_count": 8,
   "metadata": {},
   "outputs": [
    {
     "name": "stdout",
     "output_type": "stream",
     "text": [
      "Thinkbumle Aycs\n"
     ]
    },
    {
     "data": {
      "text/plain": [
       "'no'"
      ]
     },
     "execution_count": 8,
     "metadata": {},
     "output_type": "execute_result"
    }
   ],
   "source": [
    "# Problem: Implement an algorithm to determine if a string has all unique characters\n",
    "    #code starts here\n",
    "def all_unique(string):\n",
    "    \"\"\"checks whether string is unique characters or not\"\"\"\n",
    "    s2=''\n",
    "    for i in string:\n",
    "        if i.lower() not in s2.lower():\n",
    "            s2+=i\n",
    "    print(s2)\n",
    "    if len(s2)==len(string):\n",
    "        return('all unique characters')\n",
    "    else:\n",
    "        return('no')\n",
    "    \n",
    "string= 'Thinkbumblebee Analytics'\n",
    "all_unique(string)"
   ]
  },
  {
   "cell_type": "code",
   "execution_count": null,
   "metadata": {},
   "outputs": [],
   "source": []
  },
  {
   "cell_type": "code",
   "execution_count": 33,
   "metadata": {},
   "outputs": [
    {
     "data": {
      "text/plain": [
       "'Thikbumblebee lytics'"
      ]
     },
     "execution_count": 33,
     "metadata": {},
     "output_type": "execute_result"
    }
   ],
   "source": [
    "# Problem: Remove specified characters in a string irrespective of the case\n",
    "char_to_remove =['A','N']\n",
    "\n",
    "#code starts here NOTE: A,a and N,n must be removed from the above string in the output\n",
    "def char_to_remove(string):\n",
    "    \"\"\"removes prefered characters\"\"\"\n",
    "    return(string.replace('A','').replace('a','').replace('N','').replace('n',''))\n",
    "string= 'Thinkbumblebee Analytics'\n",
    "char_to_remove(string)"
   ]
  },
  {
   "cell_type": "code",
   "execution_count": 48,
   "metadata": {},
   "outputs": [
    {
     "data": {
      "text/plain": [
       "'Thikbumblebee lytics'"
      ]
     },
     "execution_count": 48,
     "metadata": {},
     "output_type": "execute_result"
    }
   ],
   "source": [
    "# Problem: Remove specified characters in a string irrespective of the case\n",
    "\n",
    "\n",
    "#code starts here NOTE: A,a and N,n must be removed from the above string in the output\n",
    "def char_to_remove(string,remove_char):\n",
    "    \"\"\"removes prefered characters\"\"\"\n",
    "    result=''\n",
    "    for i in string:\n",
    "        if i.lower() not in remove_char:\n",
    "            result+=i\n",
    "    return result\n",
    "            \n",
    "string= 'Thinkbumblebee Analytics'\n",
    "char_to_remove_str ='AN'.lower()\n",
    "char_to_remove(string,char_to_remove_str)"
   ]
  },
  {
   "cell_type": "code",
   "execution_count": null,
   "metadata": {},
   "outputs": [],
   "source": []
  },
  {
   "cell_type": "code",
   "execution_count": 19,
   "metadata": {},
   "outputs": [
    {
     "name": "stdout",
     "output_type": "stream",
     "text": [
      "enter number of terms7\n",
      "0\n",
      "1\n",
      "2\n",
      "3\n",
      "5\n",
      "8\n",
      "13\n",
      "21\n",
      "34\n",
      "series ended\n"
     ]
    }
   ],
   "source": [
    "# Problem: Implement fibonacci recursively.\n",
    "\n",
    "def fib(a,b,n,i=0):\n",
    "    \"\"\"implements fibonacci sequence\"\"\"\n",
    "    if a==0:\n",
    "        print(a)\n",
    "    if i<=n:\n",
    "        print(a+b)\n",
    "        return fib(b,a+b,n,i+1)\n",
    "    else:\n",
    "        return \"series ended\"\n",
    "n=input('enter number of terms')\n",
    "print(fib(0,1,n))\n"
   ]
  },
  {
   "cell_type": "code",
   "execution_count": null,
   "metadata": {},
   "outputs": [],
   "source": []
  },
  {
   "cell_type": "code",
   "execution_count": 45,
   "metadata": {},
   "outputs": [],
   "source": [
    "# Python Data Types\n",
    "# Problem: Read \"customer.csv\", save it into best suited python data type and perform below task:\n",
    "# 1) Give me count of customer_id where state is \"NY\"\n",
    "# 2) Give me count of customer_id where state is \"NY\" and phone number is not given.\n",
    "# Note: Pandas or any python package is allowed, but only to read csv file and not to complete the task. Answer is expected from python native data types only.\n",
    "\n"
   ]
  },
  {
   "cell_type": "code",
   "execution_count": 47,
   "metadata": {},
   "outputs": [
    {
     "name": "stdout",
     "output_type": "stream",
     "text": [
      "count of states with state code NY 130\n",
      " count of states with state code NY and with no phone number is 119\n"
     ]
    }
   ],
   "source": [
    "def readfiledata(filename):\n",
    "    import csv\n",
    "\n",
    "    cnt1,cnt2=0,0\n",
    "    with open(filename, 'r') as data:\n",
    "        for line in csv.DictReader(data): \n",
    "\n",
    "            if line['state']=='NY':\n",
    "                cnt1+=1\n",
    "                if line['phone']=='':\n",
    "                    cnt2+=1\n",
    "\n",
    "\n",
    "    print('count of states with state code NY {}\\n count of states with state code NY and with no phone number is {}'.format(cnt1,cnt2))\n",
    "\n",
    "# note:file should be in the same path as the code ortherwise prothe the path\n",
    "readfiledata(\"customer.csv\")"
   ]
  },
  {
   "cell_type": "code",
   "execution_count": 31,
   "metadata": {},
   "outputs": [
    {
     "data": {
      "text/plain": [
       "1430"
      ]
     },
     "execution_count": 31,
     "metadata": {},
     "output_type": "execute_result"
    }
   ],
   "source": [
    "# Problem: Perform below task\n",
    "# 1) Create a list of 10 even numbers using list comprehension.\n",
    "# 2) Create a list of 10 odd numbers using list comprehension.\n",
    "# 3) Multiply and sum them up while iterating over once.\n",
    "# x = x1 + x2 + x3 + ....... + x9 + x10\n",
    "# y = y1 + y2 + y3 + ....... + y9 + y10\n",
    "# z = x1y1 + x2y2 + x3y3 + ....... + x9y9 + x10y10\n",
    "# Least expected time complexity is O(n)\n",
    "def even_odd_mul_sum(a,b):\n",
    "    return sum([((2*n)*(2*n-1)) for n in range(a,b)])\n",
    "\n",
    "even_odd_mul_sum(1,11)"
   ]
  },
  {
   "cell_type": "code",
   "execution_count": null,
   "metadata": {},
   "outputs": [],
   "source": []
  },
  {
   "cell_type": "code",
   "execution_count": 44,
   "metadata": {},
   "outputs": [
    {
     "name": "stdout",
     "output_type": "stream",
     "text": [
      "Jan\n",
      "Feb\n",
      "Mar\n",
      "Apr\n",
      "May\n",
      "Fri\n",
      "Jun\n",
      "Jul\n",
      "Aug\n",
      "Sep\n",
      "Oct\n",
      "Mon\n"
     ]
    }
   ],
   "source": [
    "\n",
    "# Problem: Implement singly linked list using object oriented programming, instantiate it and perform insert, delete,\n",
    "#     search. <br><b>Note: Make sure you insert more than 10 nodes to test and print.</b>\n",
    "\n",
    "class Node:\n",
    "    def __init__(self, dataval=None):\n",
    "        self.dataval = dataval\n",
    "        self.nextval = None\n",
    "\n",
    "class SLinkedList:\n",
    "    def __init__(self):\n",
    "        self.headval = None\n",
    "\n",
    "\n",
    "    def AtEnd(self, newdata):\n",
    "        \"\"\" Function to add newnode\"\"\"\n",
    "        NewNode = Node(newdata)\n",
    "        if self.headval is None:\n",
    "            self.headval = NewNode\n",
    "            return\n",
    "        laste = self.headval\n",
    "        while(laste.nextval):\n",
    "            laste = laste.nextval\n",
    "        laste.nextval=NewNode\n",
    "        \n",
    "    def Inbetween(self,middle_node,newdata):\n",
    "        \"\"\"Function to add newnode after a particular node\"\"\"\n",
    "        if middle_node is None:\n",
    "            print(\"The mentioned node is absent\")\n",
    "            return\n",
    "\n",
    "        NewNode = Node(newdata)\n",
    "        NewNode.nextval = middle_node.nextval\n",
    "        middle_node.nextval = NewNode\n",
    "        \n",
    "    def RemoveNode(self, Removekey):\n",
    "        \"\"\" Function to removes node\"\"\"\n",
    "\n",
    "        HeadVal = self.headval\n",
    "\n",
    "        if (HeadVal is not None):\n",
    "            if (HeadVal.dataval == Removekey):\n",
    "                self.headval = HeadVal.nextval\n",
    "                HeadVal = None\n",
    "                return\n",
    "\n",
    "        while (HeadVal is not None):\n",
    "            if HeadVal.dataval == Removekey:\n",
    "                break\n",
    "            prev = HeadVal\n",
    "            HeadVal = HeadVal.nextval\n",
    "\n",
    "        if (HeadVal == None):\n",
    "            return\n",
    "\n",
    "        prev.next = HeadVal.nextval\n",
    "\n",
    "        HeadVal = None\n",
    "\n",
    "\n",
    "\n",
    "    def listprint(self):\n",
    "        \"\"\"Print the linked list\"\"\"\n",
    "        printval = self.headval\n",
    "        while printval is not None:\n",
    "            print (printval.dataval)\n",
    "            printval = printval.nextval\n",
    "            \n",
    "list = SLinkedList()\n",
    "list.headval = Node(\"Jan\")\n",
    "e2 = Node(\"Feb\")\n",
    "e3 = Node(\"Mar\")\n",
    "e4 = Node(\"Apr\")\n",
    "e5 = Node(\"May\")\n",
    "e6 = Node(\"Jun\")\n",
    "e7 = Node(\"Jul\")\n",
    "e8 = Node(\"Aug\")\n",
    "e9 = Node(\"Sep\")\n",
    "e10 = Node(\"Oct\")\n",
    "\n",
    "\n",
    "list.headval.nextval = e2\n",
    "e2.nextval = e3\n",
    "e3.nextval = e4\n",
    "e4.nextval = e5\n",
    "e5.nextval = e6\n",
    "e6.nextval = e7\n",
    "e7.nextval = e8\n",
    "e8.nextval = e9\n",
    "e9.nextval = e10\n",
    "\n",
    "list.AtEnd(\"Mon\")\n",
    "\n",
    "list.Inbetween(e5,\"Fri\")\n",
    "\n",
    "list.RemoveNode(\"Mar\")\n",
    "\n",
    "list.listprint()"
   ]
  },
  {
   "cell_type": "code",
   "execution_count": null,
   "metadata": {},
   "outputs": [],
   "source": []
  },
  {
   "cell_type": "code",
   "execution_count": null,
   "metadata": {},
   "outputs": [],
   "source": []
  }
 ],
 "metadata": {
  "kernelspec": {
   "display_name": "Python 2",
   "language": "python",
   "name": "python2"
  },
  "language_info": {
   "codemirror_mode": {
    "name": "ipython",
    "version": 2
   },
   "file_extension": ".py",
   "mimetype": "text/x-python",
   "name": "python",
   "nbconvert_exporter": "python",
   "pygments_lexer": "ipython2",
   "version": "2.7.16"
  }
 },
 "nbformat": 4,
 "nbformat_minor": 2
}
